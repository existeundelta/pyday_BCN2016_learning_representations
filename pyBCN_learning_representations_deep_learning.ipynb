{
 "cells": [
  {
   "cell_type": "markdown",
   "metadata": {},
   "source": [
    "<small><i>Setember 2016 - This notebook was created by [Oriol Pujol Vila](http://www.maia.ub.es/~oriol). Source and [license](./LICENSE.txt) info are in the folder.</i></small>"
   ]
  },
  {
   "cell_type": "markdown",
   "metadata": {},
   "source": [
    "# Learning Representations using Deep Learning with TensorFlow"
   ]
  },
  {
   "cell_type": "markdown",
   "metadata": {},
   "source": [
    "## Goals\n",
    "\n",
    "+ To know a little bit about deep learning.\n",
    "+ Check the basics of TensorFlow\n",
    " "
   ]
  },
  {
   "cell_type": "markdown",
   "metadata": {},
   "source": [
    "## 1. Some background"
   ]
  },
  {
   "cell_type": "markdown",
   "metadata": {},
   "source": [
    "This talk is about learning representations and deep learning. But before we get into that it is important to give some general background on where we are and what are our goals. \n",
    "\n",
    "Deep learning is one of the multiple techniques we find in the *Machine Learning* toolbox. \n",
    "\n",
    "So let me start briefly defining what machine learning is. We talk about machine learning when we build algorithms that adapt their outputs to previous experiences. In general, these previous experiences come in the form of *data*.\n",
    "\n",
    "There are different branches in classical machine learning:\n",
    "+ Supervised learning: Given a set of $\\{(x_i,y_i)\\}$ pairs, with $x_i \\in \\mathbb{R}^d$ and $y_i \\in \\mathbb{R}$ we want to find a mapping from an input space $x_i$ to the output $y_i$. Typical problems in supervised learning would be, to assess the click through rate probability in advertisement, predict whether a credit card operation is legit or a fraud, etc. \n",
    "+ Unsupervised learning: This kind of learning is concerned with the description of data. In this case we are given just $x_i \\in \\mathbb{R}^d$ and we want to characterize this data. The most classic example of this brach is clustering, for example, we could segment customers according to their profiles in order to launch a marketing campaing. Today we will work in this setting with deep learning. \n",
    "+ Reinforcement learning: In reinforcement learning we are concerned with guiding the learning process using weak supervisory signals. For example we can give rewards if the systems moves towards the objective and some penalization otherwise. "
   ]
  },
  {
   "cell_type": "markdown",
   "metadata": {},
   "source": [
    "## 2. Deep Learning"
   ]
  },
  {
   "cell_type": "markdown",
   "metadata": {},
   "source": [
    "Deep learning is the new bandwagon in the machine learning community. It has achieved top performance in many applications. Specially, those involving natural language processing or computer vision."
   ]
  },
  {
   "cell_type": "markdown",
   "metadata": {},
   "source": [
    "<img src=\"bandwagon.jpg\">"
   ]
  },
  {
   "cell_type": "markdown",
   "metadata": {},
   "source": [
    "### 2.1 But what is deep learning about?\n",
    "\n",
    "This is not a new technique. We are talking of old good *neural networks* with very minor changes.\n",
    "\n",
    "Remember what a neural network is:\n",
    "\n",
    "A neural network is an ensemble technique. The idea is to combine very simple bricks together to build up a usually feedforward network.\n",
    "\n",
    "The base functions are called neurons and are usually of the following form:\n",
    "\n",
    "$$h(x) = \\sigma({\\bf w}^T {\\bf x})$$\n",
    "\n",
    "where $\\sigma$ is a non-linear function. And here comes the first change that helped deep learning to take off. This non-linear function was usually the sigmoid function:"
   ]
  },
  {
   "cell_type": "code",
   "execution_count": 1,
   "metadata": {
    "collapsed": false
   },
   "outputs": [
    {
     "name": "stderr",
     "output_type": "stream",
     "text": [
      "/Users/oriol/anaconda/lib/python2.7/site-packages/matplotlib/font_manager.py:273: UserWarning: Matplotlib is building the font cache using fc-list. This may take a moment.\n",
      "  warnings.warn('Matplotlib is building the font cache using fc-list. This may take a moment.')\n"
     ]
    },
    {
     "data": {
      "text/plain": [
       "[<matplotlib.lines.Line2D at 0x106c8bc90>]"
      ]
     },
     "execution_count": 1,
     "metadata": {},
     "output_type": "execute_result"
    },
    {
     "data": {
      "image/png": "[encoded data removed]",
      "text/plain": [
       "<matplotlib.figure.Figure at 0x104e08f90>"
      ]
     },
     "metadata": {},
     "output_type": "display_data"
    }
   ],
   "source": [
    "%matplotlib inline\n",
    "import numpy as np\n",
    "import matplotlib.pyplot as plt\n",
    "\n",
    "x = np.arange(-8,8,0.1)\n",
    "sigmoid = 1./(1+np.exp(-x))\n",
    "plt.plot(x,sigmoid)\n",
    "\n"
   ]
  },
  {
   "cell_type": "markdown",
   "metadata": {},
   "source": [
    "it was seen that a simpler non-linear function would work better as it will tackle the problem of vanishing gradients when learning the network. The model that did that was the rectified linear unit, i.e.\n",
    "\n",
    "$$relu(x) = \\max(0,x)$$\n",
    "\n"
   ]
  },
  {
   "cell_type": "code",
   "execution_count": 2,
   "metadata": {
    "collapsed": false
   },
   "outputs": [
    {
     "data": {
      "text/plain": [
       "(0, 2.0)"
      ]
     },
     "execution_count": 2,
     "metadata": {},
     "output_type": "execute_result"
    },
    {
     "data": {
      "image/png": "[encoded data removed]",
      "text/plain": [
       "<matplotlib.figure.Figure at 0x106c17ad0>"
      ]
     },
     "metadata": {},
     "output_type": "display_data"
    }
   ],
   "source": [
    "%matplotlib inline\n",
    "import numpy as np\n",
    "import matplotlib.pyplot as plt\n",
    "\n",
    "x = np.arange(-4,4,0.1)\n",
    "sigmoid = 1./(1+np.exp(-x))\n",
    "relu = np.where(x>0,x,0)\n",
    "plt.plot(x,relu)\n",
    "plt.hold('on')\n",
    "plt.plot(x,sigmoid,color='r')\n",
    "\n",
    "ax = plt.gca()\n",
    "ax.set_ylim(0,2.)\n",
    "\n"
   ]
  },
  {
   "cell_type": "markdown",
   "metadata": {},
   "source": [
    "We do this in tensorflow:"
   ]
  },
  {
   "cell_type": "code",
   "execution_count": 3,
   "metadata": {
    "collapsed": true
   },
   "outputs": [],
   "source": [
    "import tensorflow as tf"
   ]
  },
  {
   "cell_type": "code",
   "execution_count": 4,
   "metadata": {
    "collapsed": true
   },
   "outputs": [],
   "source": [
    "x_rectified=tf.nn.relu(x)"
   ]
  },
  {
   "cell_type": "code",
   "execution_count": 5,
   "metadata": {
    "collapsed": false
   },
   "outputs": [
    {
     "data": {
      "text/plain": [
       "<tf.Tensor 'Relu:0' shape=(80,) dtype=float64>"
      ]
     },
     "execution_count": 5,
     "metadata": {},
     "output_type": "execute_result"
    }
   ],
   "source": [
    "x_rectified"
   ]
  },
  {
   "cell_type": "code",
   "execution_count": 6,
   "metadata": {
    "collapsed": false
   },
   "outputs": [
    {
     "name": "stdout",
     "output_type": "stream",
     "text": [
      "[  0.00000000e+00   0.00000000e+00   0.00000000e+00   0.00000000e+00\n",
      "   0.00000000e+00   0.00000000e+00   0.00000000e+00   0.00000000e+00\n",
      "   0.00000000e+00   0.00000000e+00   0.00000000e+00   0.00000000e+00\n",
      "   0.00000000e+00   0.00000000e+00   0.00000000e+00   0.00000000e+00\n",
      "   0.00000000e+00   0.00000000e+00   0.00000000e+00   0.00000000e+00\n",
      "   0.00000000e+00   0.00000000e+00   0.00000000e+00   0.00000000e+00\n",
      "   0.00000000e+00   0.00000000e+00   0.00000000e+00   0.00000000e+00\n",
      "   0.00000000e+00   0.00000000e+00   0.00000000e+00   0.00000000e+00\n",
      "   0.00000000e+00   0.00000000e+00   0.00000000e+00   0.00000000e+00\n",
      "   0.00000000e+00   0.00000000e+00   0.00000000e+00   0.00000000e+00\n",
      "   3.55271368e-15   1.00000000e-01   2.00000000e-01   3.00000000e-01\n",
      "   4.00000000e-01   5.00000000e-01   6.00000000e-01   7.00000000e-01\n",
      "   8.00000000e-01   9.00000000e-01   1.00000000e+00   1.10000000e+00\n",
      "   1.20000000e+00   1.30000000e+00   1.40000000e+00   1.50000000e+00\n",
      "   1.60000000e+00   1.70000000e+00   1.80000000e+00   1.90000000e+00\n",
      "   2.00000000e+00   2.10000000e+00   2.20000000e+00   2.30000000e+00\n",
      "   2.40000000e+00   2.50000000e+00   2.60000000e+00   2.70000000e+00\n",
      "   2.80000000e+00   2.90000000e+00   3.00000000e+00   3.10000000e+00\n",
      "   3.20000000e+00   3.30000000e+00   3.40000000e+00   3.50000000e+00\n",
      "   3.60000000e+00   3.70000000e+00   3.80000000e+00   3.90000000e+00]\n"
     ]
    }
   ],
   "source": [
    "sess = tf.Session()\n",
    "values=sess.run(x_rectified)\n",
    "print values"
   ]
  },
  {
   "cell_type": "code",
   "execution_count": 7,
   "metadata": {
    "collapsed": false
   },
   "outputs": [
    {
     "data": {
      "text/plain": [
       "[<matplotlib.lines.Line2D at 0x119923f50>]"
      ]
     },
     "execution_count": 7,
     "metadata": {},
     "output_type": "execute_result"
    },
    {
     "data": {
      "image/png": "[encoded data removed]",
      "text/plain": [
       "<matplotlib.figure.Figure at 0x1197d5910>"
      ]
     },
     "metadata": {},
     "output_type": "display_data"
    }
   ],
   "source": [
    "plt.plot(values)"
   ]
  },
  {
   "cell_type": "markdown",
   "metadata": {},
   "source": [
    "In tensorflow, we can see two different stages, the **definition** of the computational graph and its **execution** in a session."
   ]
  },
  {
   "cell_type": "markdown",
   "metadata": {},
   "source": [
    "The basic model function is popularly called *neuron*. Let us define a single neuron:"
   ]
  },
  {
   "cell_type": "markdown",
   "metadata": {},
   "source": [
    "<img src = './neuron.jpg' width = 400px>"
   ]
  },
  {
   "cell_type": "code",
   "execution_count": 8,
   "metadata": {
    "collapsed": false
   },
   "outputs": [],
   "source": [
    "%reset -f \n",
    "import tensorflow as tf\n",
    "\n",
    "tf.reset_default_graph() \n",
    "\n",
    "x = tf.placeholder(dtype = 'float32', shape = [None,64], name = 'input')\n",
    "\n",
    "w = tf.Variable(1*tf.random_normal([64, 1]))\n",
    "b = tf.Variable(1*tf.random_normal([1, 1]))\n",
    "\n",
    "neuron = tf.nn.relu(tf.add(tf.matmul(x,w),b))"
   ]
  },
  {
   "cell_type": "markdown",
   "metadata": {},
   "source": [
    "We have introduced a couple of concepts here, *variables* and *placeholders*. Variables define the parameters with respect we are going to optimize, i.e. the model parameters. Placeholders are the inputs to the computational graph."
   ]
  },
  {
   "cell_type": "markdown",
   "metadata": {},
   "source": [
    "As we will see later relu's are nice for inner/hidden layers in neural networks, but they are a bad idea in the last layer. So let me just redefine the \"neuron\" as a simple linear combination of the inputs, i.e. "
   ]
  },
  {
   "cell_type": "code",
   "execution_count": 9,
   "metadata": {
    "collapsed": true
   },
   "outputs": [],
   "source": [
    "neuron = tf.add(tf.matmul(x,w),b)"
   ]
  },
  {
   "cell_type": "markdown",
   "metadata": {},
   "source": [
    "Let us create some simple problem. Let us take the digits problem in the sklearn and invent a derived problem, for example to distinguish between digits that have few pixels active versus those with larger set. "
   ]
  },
  {
   "cell_type": "code",
   "execution_count": 10,
   "metadata": {
    "collapsed": false
   },
   "outputs": [],
   "source": [
    "from sklearn.datasets import load_digits\n",
    "import numpy as np\n",
    "data=load_digits()\n",
    "X_train = data.data/16.\n",
    "y_train = np.where(np.sum(data.data,axis=1)>330., 1.,-1.)"
   ]
  },
  {
   "cell_type": "code",
   "execution_count": 11,
   "metadata": {
    "collapsed": false
   },
   "outputs": [
    {
     "data": {
      "text/plain": [
       "(1797, 64)"
      ]
     },
     "execution_count": 11,
     "metadata": {},
     "output_type": "execute_result"
    }
   ],
   "source": [
    "X_train.shape"
   ]
  },
  {
   "cell_type": "markdown",
   "metadata": {},
   "source": [
    "In machine learning, besides the model class, we have to define two more concepts: a measure of fitness or irritation, we call that *loss* or *cost function* and a way for reducing the loss, the *optimization method*."
   ]
  },
  {
   "cell_type": "code",
   "execution_count": 12,
   "metadata": {
    "collapsed": false
   },
   "outputs": [],
   "source": [
    "y = tf.placeholder(dtype = 'float32', shape = [None,1], name = 'output')\n",
    "\n",
    "#loss  = tf.reduce_sum(tf.abs(y-neuron))/16.\n",
    "loss = tf.reduce_max(tf.abs(y-neuron))"
   ]
  },
  {
   "cell_type": "code",
   "execution_count": 13,
   "metadata": {
    "collapsed": false
   },
   "outputs": [],
   "source": [
    "opt = tf.train.AdamOptimizer(learning_rate=1e-3).minimize(loss)"
   ]
  },
  {
   "cell_type": "code",
   "execution_count": 14,
   "metadata": {
    "collapsed": true
   },
   "outputs": [],
   "source": [
    "init = tf.initialize_all_variables()"
   ]
  },
  {
   "cell_type": "code",
   "execution_count": 15,
   "metadata": {
    "collapsed": true
   },
   "outputs": [],
   "source": [
    "sess = tf.Session()\n",
    "sess.run(init)"
   ]
  },
  {
   "cell_type": "code",
   "execution_count": 16,
   "metadata": {
    "collapsed": false
   },
   "outputs": [],
   "source": [
    "N = X_train.shape[0] #number of samples\n",
    "cost = []\n",
    "batch_size=16\n",
    "for i in xrange(10000):\n",
    "    idx = np.random.randint(0,N,batch_size)\n",
    "    xs = X_train[idx,:]\n",
    "    ys = y_train[idx]\n",
    "    sess.run(opt, feed_dict={x: xs, y: ys[:,np.newaxis]})\n",
    "    \n",
    "    if i%100==0:\n",
    "        cost.append(sess.run(loss, feed_dict={x: X_train, y: y_train[:,np.newaxis]}))"
   ]
  },
  {
   "cell_type": "code",
   "execution_count": 17,
   "metadata": {
    "collapsed": false
   },
   "outputs": [
    {
     "data": {
      "text/plain": [
       "[<matplotlib.lines.Line2D at 0x11a04f150>]"
      ]
     },
     "execution_count": 17,
     "metadata": {},
     "output_type": "execute_result"
    },
    {
     "data": {
      "image/png": "[encoded data removed]",
      "text/plain": [
       "<matplotlib.figure.Figure at 0x106e7ec90>"
      ]
     },
     "metadata": {},
     "output_type": "display_data"
    }
   ],
   "source": [
    "%matplotlib inline\n",
    "import matplotlib.pyplot as plt\n",
    "\n",
    "plt.plot(cost)"
   ]
  },
  {
   "cell_type": "markdown",
   "metadata": {},
   "source": [
    "What we are seeing here is that the optimization function really reduces the loss function on the training set, as expected. We should check that it also decreases the loss on the a test set to guarantee that the model will generalize well. You can check it at home ;-).\n"
   ]
  },
  {
   "cell_type": "markdown",
   "metadata": {},
   "source": [
    "We can save the session for future uses."
   ]
  },
  {
   "cell_type": "code",
   "execution_count": 18,
   "metadata": {
    "collapsed": false
   },
   "outputs": [
    {
     "name": "stdout",
     "output_type": "stream",
     "text": [
      "Model saved in file: ./trial.ckpt\n"
     ]
    }
   ],
   "source": [
    "saver = tf.train.Saver()\n",
    "save_path = saver.save(sess, \"./trial.ckpt\")\n",
    "print(\"Model saved in file: %s\" % save_path)"
   ]
  },
  {
   "cell_type": "markdown",
   "metadata": {},
   "source": [
    "And we can restore the session, but we have to redefine the model again"
   ]
  },
  {
   "cell_type": "code",
   "execution_count": 20,
   "metadata": {
    "collapsed": false
   },
   "outputs": [
    {
     "name": "stdout",
     "output_type": "stream",
     "text": [
      "Model restored.\n"
     ]
    },
    {
     "data": {
      "text/plain": [
       "array([[-0.22114947],\n",
       "       [ 0.1602864 ],\n",
       "       [-0.18977615],\n",
       "       ..., \n",
       "       [-0.07008472],\n",
       "       [ 0.24256298],\n",
       "       [-0.14008486]], dtype=float32)"
      ]
     },
     "execution_count": 20,
     "metadata": {},
     "output_type": "execute_result"
    }
   ],
   "source": [
    "%reset -f \n",
    "import tensorflow as tf\n",
    "\n",
    "from sklearn.datasets import load_digits\n",
    "import numpy as np\n",
    "data=load_digits()\n",
    "X_train = data.data/16.\n",
    "y_train = np.where(np.sum(data.data,axis=1)>330., 1.,-1.)\n",
    "\n",
    "\n",
    "tf.reset_default_graph() \n",
    "x = tf.placeholder(dtype = 'float32', shape = [None,64], name = 'input')\n",
    "w = tf.Variable(1*tf.random_normal([64, 1]))\n",
    "b = tf.Variable(1*tf.random_normal([1, 1]))\n",
    "neuron = tf.add(tf.matmul(x,w),b)\n",
    "y = tf.placeholder(dtype = 'float32', shape = [None,1], name = 'output')\n",
    "loss = tf.reduce_max(tf.abs(y-neuron))\n",
    "opt = tf.train.AdamOptimizer(learning_rate=1e-3).minimize(loss)\n",
    "\n",
    "sess = tf.Session()\n",
    "saver = tf.train.Saver()\n",
    "saver.restore(sess, \"./trial.ckpt\")\n",
    "print(\"Model restored.\")\n",
    "\n",
    "sess.run(neuron, feed_dict={x:X_train})"
   ]
  },
  {
   "cell_type": "markdown",
   "metadata": {},
   "source": [
    "Observe that `feed_dict` contains only information relevant to the computational graph of `neuron`. In this case we do not need `y`."
   ]
  },
  {
   "cell_type": "markdown",
   "metadata": {},
   "source": [
    "### 2.2 Moving forward to \"deep\" representations\n",
    "\n",
    "We can combine multiple layers of neurons. This will create a neural network. When the number of layers is sufficently large we call the network a *deep learner*. There are different kinds of NNs. In this basic tutorial we are concerned with NN composed of fully-connected layers."
   ]
  },
  {
   "cell_type": "markdown",
   "metadata": {},
   "source": [
    "<img src = './NN.jpg' width = 500px>"
   ]
  },
  {
   "cell_type": "markdown",
   "metadata": {},
   "source": [
    "Let us define a feedforward model. Observe that our former definition of neuron can handle a full layer, i.e."
   ]
  },
  {
   "cell_type": "code",
   "execution_count": 21,
   "metadata": {
    "collapsed": false
   },
   "outputs": [],
   "source": [
    "n_inputs = 1000\n",
    "n_hidden_1 = 300\n",
    "\n",
    "x = tf.placeholder(\"float\", [None, n_inputs], name = \"x\")\n",
    "w = tf.Variable(tf.random_normal([n_inputs,n_hidden_1]))\n",
    "b = tf.Variable(tf.random_normal([n_hidden_1]))\n",
    "\n",
    "layer1 = tf.nn.relu(tf.add(tf.matmul(x,w),b))"
   ]
  },
  {
   "cell_type": "markdown",
   "metadata": {},
   "source": [
    "By stacking this same definition we can create a simple network:"
   ]
  },
  {
   "cell_type": "code",
   "execution_count": 22,
   "metadata": {
    "collapsed": false
   },
   "outputs": [],
   "source": [
    "import tensorflow as tf\n",
    "import numpy as np\n",
    "\n",
    "tf.reset_default_graph() \n",
    "# Network Parameters\n",
    "n_input = 64\n",
    "n_hidden_1 = 64  # 1st layer num features\n",
    "n_hidden_2 = 32  # 2nd layer num features\n",
    "n_output = 1  # Output num features\n",
    "\n",
    "# Parameters\n",
    "learning_rate = 1e-3\n",
    "# tf Graph input\n",
    "x = tf.placeholder(\"float\", [None, n_input], name='x')\n",
    "y = tf.placeholder(\"float\", [None, n_output], name='y')\n",
    "# Store layers weight & bias\n",
    "c = 0.1\n",
    "weights = {\n",
    "    'h1': tf.Variable(c*tf.random_normal([n_input, n_hidden_1]), name='W1'),\n",
    "    'h2': tf.Variable(c*tf.random_normal([n_hidden_1, n_hidden_2]), name='W2'),\n",
    "    'out': tf.Variable(c*tf.random_normal([n_hidden_2, n_output]), name = 'output')\n",
    "}\n",
    "biases = {\n",
    "    'b1': tf.Variable(c*tf.random_normal([n_hidden_1]), name='b1'),\n",
    "    'b2': tf.Variable(c*tf.random_normal([n_hidden_2]), name='b2'),\n",
    "    'out': tf.Variable(c*tf.random_normal([n_output]), name = 'output')\n",
    "}\n",
    "\n",
    "keep_prob = tf.placeholder(tf.float32)\n",
    "pre_layer_drop = tf.nn.dropout(x, keep_prob)\n",
    "layer_1 = tf.nn.relu(tf.add(tf.matmul(pre_layer_drop, weights['h1']), biases['b1']))\n",
    "layer_2 = tf.nn.relu(tf.add(tf.matmul(layer_1, weights['h2']), biases['b2']))\n",
    "output = tf.add(tf.matmul(layer_2, weights['out']), biases['out'])\n",
    "\n",
    "#loss = tf.reduce_mean(tf.pow(output - y, 2))\n",
    "loss = tf.reduce_sum(tf.abs(output-y))\n",
    "opt = tf.train.AdamOptimizer(learning_rate).minimize(loss)\n",
    "\n",
    "init = tf.initialize_all_variables()"
   ]
  },
  {
   "cell_type": "code",
   "execution_count": 23,
   "metadata": {
    "collapsed": false
   },
   "outputs": [],
   "source": [
    "from sklearn.datasets import load_digits\n",
    "import numpy as np\n",
    "data=load_digits()\n",
    "X_train = data.data/16.\n",
    "y_train = data.target"
   ]
  },
  {
   "cell_type": "code",
   "execution_count": 24,
   "metadata": {
    "collapsed": false
   },
   "outputs": [],
   "source": [
    "sess = tf.Session()\n",
    "sess.run(init)\n",
    "\n",
    "N = X_train.shape[0] #number of samples\n",
    "cost = []\n",
    "batch_size=16\n",
    "for i in xrange(10000):\n",
    "    idx = np.random.randint(0,N,batch_size)\n",
    "    xs = X_train[idx,:]\n",
    "    ys = y_train[idx]\n",
    "    sess.run(opt, feed_dict={x: xs, y: ys[:,np.newaxis], keep_prob: 0.9})\n",
    "    \n",
    "    if i%100==0:\n",
    "        cost.append(sess.run(loss, feed_dict={x: X_train, y: y_train[:,np.newaxis], keep_prob:1.}))"
   ]
  },
  {
   "cell_type": "code",
   "execution_count": 25,
   "metadata": {
    "collapsed": false
   },
   "outputs": [
    {
     "data": {
      "text/plain": [
       "[<matplotlib.lines.Line2D at 0x11b410490>]"
      ]
     },
     "execution_count": 25,
     "metadata": {},
     "output_type": "execute_result"
    },
    {
     "data": {
      "image/png": "[encoded data removed]",
      "text/plain": [
       "<matplotlib.figure.Figure at 0x106db4f50>"
      ]
     },
     "metadata": {},
     "output_type": "display_data"
    }
   ],
   "source": [
    "%matplotlib inline\n",
    "import matplotlib.pyplot as plt\n",
    "\n",
    "plt.plot(cost)"
   ]
  },
  {
   "cell_type": "code",
   "execution_count": 26,
   "metadata": {
    "collapsed": false
   },
   "outputs": [
    {
     "data": {
      "text/plain": [
       "[<matplotlib.lines.Line2D at 0x11a4ee390>]"
      ]
     },
     "execution_count": 26,
     "metadata": {},
     "output_type": "execute_result"
    },
    {
     "data": {
      "image/png": "[encoded data removed]",
      "text/plain": [
       "<matplotlib.figure.Figure at 0x11b360810>"
      ]
     },
     "metadata": {},
     "output_type": "display_data"
    }
   ],
   "source": [
    "plt.plot(sess.run(output, feed_dict={x: X_train, keep_prob:1.})[0:40,0])\n",
    "fig = plt.gcf()\n",
    "fig.hold('on')\n",
    "plt.plot(y_train[0:40],color='r')"
   ]
  },
  {
   "cell_type": "markdown",
   "metadata": {},
   "source": [
    "## 3. Learning Representations"
   ]
  },
  {
   "cell_type": "markdown",
   "metadata": {},
   "source": [
    "<div class = \"alert alert-danger\" style = \"border-radius:10px;border-width:3px\">Up to this point I have been deliverately clumsy and careless in the training process for the sake of not cluttering the code. However it is time to properly address this.</div>"
   ]
  },
  {
   "cell_type": "code",
   "execution_count": 27,
   "metadata": {
    "collapsed": false
   },
   "outputs": [],
   "source": [
    "from sklearn.datasets import load_digits\n",
    "import numpy as np\n",
    "data=load_digits()\n",
    "X = data.data/16.\n",
    "y = data.target\n",
    "\n",
    "from sklearn import cross_validation\n",
    "\n",
    "X_train, X_test, y_train, y_test = cross_validation.train_test_split(X,y,test_size=0.3,random_state = 42)"
   ]
  },
  {
   "cell_type": "code",
   "execution_count": 28,
   "metadata": {
    "collapsed": true
   },
   "outputs": [],
   "source": [
    "import tensorflow as tf\n",
    "import numpy as np\n",
    "\n",
    "tf.reset_default_graph() \n",
    "# Network Parameters\n",
    "n_input = 64\n",
    "n_hidden_1 = 64  # 1st layer num features\n",
    "n_hidden_2 = 32  # 2nd layer num features\n",
    "n_output = 1  # Output num features\n",
    "\n",
    "# Parameters\n",
    "learning_rate = 1e-3\n",
    "# tf Graph input\n",
    "x = tf.placeholder(\"float\", [None, n_input], name='x')\n",
    "y = tf.placeholder(\"float\", [None, n_output], name='y')\n",
    "# Store layers weight & bias\n",
    "c = 0.1\n",
    "weights = {\n",
    "    'h1': tf.Variable(c*tf.random_normal([n_input, n_hidden_1]), name='W1'),\n",
    "    'h2': tf.Variable(c*tf.random_normal([n_hidden_1, n_hidden_2]), name='W2'),\n",
    "    'out': tf.Variable(c*tf.random_normal([n_hidden_2, n_output]), name = 'output')\n",
    "}\n",
    "biases = {\n",
    "    'b1': tf.Variable(c*tf.random_normal([n_hidden_1]), name='b1'),\n",
    "    'b2': tf.Variable(c*tf.random_normal([n_hidden_2]), name='b2'),\n",
    "    'out': tf.Variable(c*tf.random_normal([n_output]), name = 'output')\n",
    "}\n",
    "\n",
    "keep_prob = tf.placeholder(tf.float32)\n",
    "pre_layer_drop = tf.nn.dropout(x, keep_prob)\n",
    "layer_1 = tf.nn.relu(tf.add(tf.matmul(pre_layer_drop, weights['h1']), biases['b1']))\n",
    "layer_2 = tf.nn.relu(tf.add(tf.matmul(layer_1, weights['h2']), biases['b2']))\n",
    "output = tf.add(tf.matmul(layer_2, weights['out']), biases['out'])\n",
    "\n",
    "#loss = tf.reduce_mean(tf.pow(output - y, 2))\n",
    "loss = tf.reduce_sum(tf.abs(output-y))\n",
    "opt = tf.train.AdamOptimizer(learning_rate).minimize(loss)\n",
    "\n",
    "init = tf.initialize_all_variables()\n",
    "\n",
    "sess = tf.Session()\n",
    "sess.run(init)\n",
    "\n",
    "N = X_train.shape[0] #number of samples\n",
    "cost = []\n",
    "batch_size=16\n",
    "for i in xrange(10000):\n",
    "    idx = np.random.randint(0,N,batch_size)\n",
    "    xs = X_train[idx,:]\n",
    "    ys = y_train[idx]\n",
    "    sess.run(opt, feed_dict={x: xs, y: ys[:,np.newaxis], keep_prob: 0.9})\n",
    "    \n",
    "    if i%100==0:\n",
    "        cost.append(sess.run(loss, feed_dict={x: X_test, y: y_test[:,np.newaxis], keep_prob:1.}))"
   ]
  },
  {
   "cell_type": "code",
   "execution_count": 29,
   "metadata": {
    "collapsed": false
   },
   "outputs": [
    {
     "data": {
      "text/plain": [
       "[<matplotlib.lines.Line2D at 0x119fd1050>]"
      ]
     },
     "execution_count": 29,
     "metadata": {},
     "output_type": "execute_result"
    },
    {
     "data": {
      "image/png": "[encoded data removed]",
      "text/plain": [
       "<matplotlib.figure.Figure at 0x11b49bc90>"
      ]
     },
     "metadata": {},
     "output_type": "display_data"
    }
   ],
   "source": [
    "%matplotlib inline\n",
    "import matplotlib.pyplot as plt\n",
    "\n",
    "plt.plot(cost)"
   ]
  },
  {
   "cell_type": "code",
   "execution_count": 30,
   "metadata": {
    "collapsed": false
   },
   "outputs": [
    {
     "data": {
      "text/plain": [
       "[<matplotlib.lines.Line2D at 0x119f69550>]"
      ]
     },
     "execution_count": 30,
     "metadata": {},
     "output_type": "execute_result"
    },
    {
     "data": {
      "image/png": "[encoded data removed]",
      "text/plain": [
       "<matplotlib.figure.Figure at 0x119f69c10>"
      ]
     },
     "metadata": {},
     "output_type": "display_data"
    }
   ],
   "source": [
    "plt.plot(sess.run(output, feed_dict={x: X_test, keep_prob:1.})[0:40,0])\n",
    "fig = plt.gcf()\n",
    "fig.hold('on')\n",
    "plt.plot(y_test[0:40],color='r')"
   ]
  },
  {
   "cell_type": "markdown",
   "metadata": {},
   "source": [
    "Uffff, it still works ;-). Let us quantify how well."
   ]
  },
  {
   "cell_type": "code",
   "execution_count": 31,
   "metadata": {
    "collapsed": false
   },
   "outputs": [
    {
     "name": "stdout",
     "output_type": "stream",
     "text": [
      "Accuracy (at the moment): 0.862962962963\n"
     ]
    }
   ],
   "source": [
    "ypred = sess.run(output,feed_dict={x: X_test, keep_prob: 1.})\n",
    "\n",
    "print 'Accuracy (at the moment): ' + str(np.sum(np.where(np.abs(ypred-y_test[:,np.newaxis])<0.5,1.,0.))/y_test.shape[0])"
   ]
  },
  {
   "cell_type": "markdown",
   "metadata": {},
   "source": [
    "Ok, so now, we can train a very basic \"deep learner\". Let us look a little bit into the parts of this model. \n",
    "\n",
    "+ So we have a set of layers, the output of one layer is a non-linear transformation of its input. This is true up to the last layer. \n",
    "\n",
    "+ In our previous example, the last layer acts as a supervised classifier.\n",
    "\n",
    "Let us check that out by replacing the last layer of our former network with a random forest."
   ]
  },
  {
   "cell_type": "code",
   "execution_count": 32,
   "metadata": {
    "collapsed": false
   },
   "outputs": [],
   "source": [
    "X_transformed = sess.run(layer_2, feed_dict={x: X_train, keep_prob: 1.})\n",
    "X_test_transformed = sess.run(layer_2, feed_dict={x: X_test, keep_prob: 1.})"
   ]
  },
  {
   "cell_type": "code",
   "execution_count": 33,
   "metadata": {
    "collapsed": false
   },
   "outputs": [
    {
     "data": {
      "text/plain": [
       "(1257, 32)"
      ]
     },
     "execution_count": 33,
     "metadata": {},
     "output_type": "execute_result"
    }
   ],
   "source": [
    "X_transformed.shape"
   ]
  },
  {
   "cell_type": "code",
   "execution_count": 34,
   "metadata": {
    "collapsed": false
   },
   "outputs": [
    {
     "data": {
      "text/plain": [
       "0.94259259259259254"
      ]
     },
     "execution_count": 34,
     "metadata": {},
     "output_type": "execute_result"
    }
   ],
   "source": [
    "from sklearn.ensemble import RandomForestClassifier\n",
    "\n",
    "rf = RandomForestClassifier(11)\n",
    "rf.fit(X_transformed,y_train)\n",
    "rf.score(X_test_transformed,y_test)"
   ]
  },
  {
   "cell_type": "markdown",
   "metadata": {},
   "source": [
    "So it seems that efectively, the last layer of the network serves as a classifier while the rest is a transformation. The transformed data can be regarded as a new representation of the original data."
   ]
  },
  {
   "cell_type": "markdown",
   "metadata": {},
   "source": [
    "<div class = \"alert alert-warning\" style = \"border-radius:10px;border-width:3px\">In particular, the network looks for a good transformation for the task at hand. In this case the task of regressing the number value.</div>"
   ]
  },
  {
   "cell_type": "markdown",
   "metadata": {},
   "source": [
    "### 3.1 Learning unsupervised representations"
   ]
  },
  {
   "cell_type": "markdown",
   "metadata": {},
   "source": [
    "<div class = \"alert alert-success\" style = \"border-radius:10px;border-width:3px\">The task at hand can be very specific and constraining. If we want a general, multi-purpose representation, what task can we consider?</div>\n",
    "\n"
   ]
  },
  {
   "cell_type": "markdown",
   "metadata": {},
   "source": [
    "One posible solution is to use an *autoencoder*. An autoencoder tries to learn the identity mapping, i.e. the input and the output are the same. However we can build an architecture that constraints/compresses information and then uncompresses it. Because this can be a little tricky we can instead reconstruct from a noisy version of our data using the *dropout layer*."
   ]
  },
  {
   "cell_type": "code",
   "execution_count": 35,
   "metadata": {
    "collapsed": false
   },
   "outputs": [],
   "source": [
    "import tensorflow as tf\n",
    "import numpy as np\n",
    "\n",
    "tf.reset_default_graph() \n",
    "# Network Parameters\n",
    "n_input = 64\n",
    "n_hidden_1 = 64  # 1st layer num features\n",
    "n_hidden_2 = 32  # 2nd layer num features\n",
    "n_hidden_3 = 10  # 3rd layer num features\n",
    "n_hidden_4 = 32  # 4th layer num features\n",
    "\n",
    "# Parameters\n",
    "learning_rate = 1e-3\n",
    "# tf Graph input\n",
    "x = tf.placeholder(\"float\", [None, n_input], name='x')\n",
    "# Store layers weight & bias\n",
    "c = 0.1\n",
    "weights = {\n",
    "    'h1': tf.Variable(c*tf.random_normal([n_input, n_hidden_1]), name='W1'),\n",
    "    'h2': tf.Variable(c*tf.random_normal([n_hidden_1, n_hidden_2]), name='W2'),\n",
    "    'h3': tf.Variable(c*tf.random_normal([n_hidden_2, n_hidden_3]), name='W3'),\n",
    "    'h4': tf.Variable(c*tf.random_normal([n_hidden_3, n_hidden_4]), name='W4'),\n",
    "    'out': tf.Variable(c*tf.random_normal([n_hidden_4, n_input]), name = 'output')\n",
    "}\n",
    "biases = {\n",
    "    'b1': tf.Variable(c*tf.random_normal([n_hidden_1]), name='b1'),\n",
    "    'b2': tf.Variable(c*tf.random_normal([n_hidden_2]), name='b2'),\n",
    "    'b3': tf.Variable(c*tf.random_normal([n_hidden_3]), name='b3'),\n",
    "    'b4': tf.Variable(c*tf.random_normal([n_hidden_4]), name='b4'),\n",
    "    'out': tf.Variable(c*tf.random_normal([n_input]), name = 'output')\n",
    "}\n",
    "\n",
    "keep_prob = tf.placeholder(tf.float32)\n",
    "pre_layer_drop = tf.nn.dropout(x, keep_prob)\n",
    "layer_1 = tf.nn.relu(tf.add(tf.matmul(pre_layer_drop, weights['h1']), biases['b1']))\n",
    "layer_2 = tf.nn.relu(tf.add(tf.matmul(layer_1, weights['h2']), biases['b2']))\n",
    "layer_3 = tf.nn.relu(tf.add(tf.matmul(layer_2, weights['h3']), biases['b3']))\n",
    "layer_4 = tf.nn.relu(tf.add(tf.matmul(layer_3, weights['h4']), biases['b4']))\n",
    "output = tf.add(tf.matmul(layer_4, weights['out']), biases['out'])\n",
    "\n",
    "loss = tf.reduce_mean(tf.pow(output - x, 2))\n",
    "#loss = tf.reduce_sum(tf.abs(output-x))\n",
    "opt = tf.train.AdamOptimizer(learning_rate).minimize(loss)\n",
    "\n",
    "init = tf.initialize_all_variables()\n",
    "\n",
    "sess = tf.Session()\n",
    "sess.run(init)\n",
    "\n",
    "N = X_train.shape[0] #number of samples\n",
    "cost = []\n",
    "batch_size=16\n",
    "for i in xrange(10000):\n",
    "    idx = np.random.randint(0,N,batch_size)\n",
    "    xs = X_train[idx,:]\n",
    "    ys = y_train[idx]\n",
    "    sess.run(opt, feed_dict={x: xs, keep_prob: 0.9})\n",
    "    \n",
    "    if i%100==0:\n",
    "        cost.append(sess.run(loss, feed_dict={x: X_test, keep_prob:1.}))"
   ]
  },
  {
   "cell_type": "code",
   "execution_count": 36,
   "metadata": {
    "collapsed": false
   },
   "outputs": [
    {
     "data": {
      "text/plain": [
       "[<matplotlib.lines.Line2D at 0x11a6bc5d0>]"
      ]
     },
     "execution_count": 36,
     "metadata": {},
     "output_type": "execute_result"
    },
    {
     "data": {
      "image/png": "[encoded data removed]",
      "text/plain": [
       "<matplotlib.figure.Figure at 0x11b92bf50>"
      ]
     },
     "metadata": {},
     "output_type": "display_data"
    }
   ],
   "source": [
    "%matplotlib inline\n",
    "import matplotlib.pyplot as plt\n",
    "\n",
    "plt.plot(cost)"
   ]
  },
  {
   "cell_type": "markdown",
   "metadata": {},
   "source": [
    "Let us check some testing images reconstruction:"
   ]
  },
  {
   "cell_type": "code",
   "execution_count": 37,
   "metadata": {
    "collapsed": false
   },
   "outputs": [],
   "source": [
    "recons=sess.run(output, feed_dict={x:X_test[0:10,:], keep_prob:1.})"
   ]
  },
  {
   "cell_type": "code",
   "execution_count": 38,
   "metadata": {
    "collapsed": false
   },
   "outputs": [
    {
     "data": {
      "image/png": "[encoded data removed]",
      "text/plain": [
       "<matplotlib.figure.Figure at 0x11b156550>"
      ]
     },
     "metadata": {},
     "output_type": "display_data"
    },
    {
     "data": {
      "image/png": "[encoded data removed]",
      "text/plain": [
       "<matplotlib.figure.Figure at 0x11b123a90>"
      ]
     },
     "metadata": {},
     "output_type": "display_data"
    },
    {
     "data": {
      "image/png": "[encoded data removed]",
      "text/plain": [
       "<matplotlib.figure.Figure at 0x11a56a2d0>"
      ]
     },
     "metadata": {},
     "output_type": "display_data"
    },
    {
     "data": {
      "image/png": "[encoded data removed]",
      "text/plain": [
       "<matplotlib.figure.Figure at 0x11c3db0d0>"
      ]
     },
     "metadata": {},
     "output_type": "display_data"
    },
    {
     "data": {
      "image/png": "[encoded data removed]",
      "text/plain": [
       "<matplotlib.figure.Figure at 0x11c4da510>"
      ]
     },
     "metadata": {},
     "output_type": "display_data"
    },
    {
     "data": {
      "image/png": "[encoded data removed]",
      "text/plain": [
       "<matplotlib.figure.Figure at 0x11c92a2d0>"
      ]
     },
     "metadata": {},
     "output_type": "display_data"
    },
    {
     "data": {
      "image/png": "[encoded data removed]",
      "text/plain": [
       "<matplotlib.figure.Figure at 0x11ca28250>"
      ]
     },
     "metadata": {},
     "output_type": "display_data"
    },
    {
     "data": {
      "image/png": "[encoded data removed]",
      "text/plain": [
       "<matplotlib.figure.Figure at 0x11cc1ae10>"
      ]
     },
     "metadata": {},
     "output_type": "display_data"
    },
    {
     "data": {
      "image/png": "[encoded data removed]",
      "text/plain": [
       "<matplotlib.figure.Figure at 0x11cd1b650>"
      ]
     },
     "metadata": {},
     "output_type": "display_data"
    },
    {
     "data": {
      "image/png": "[encoded data removed]",
      "text/plain": [
       "<matplotlib.figure.Figure at 0x11ce1d0d0>"
      ]
     },
     "metadata": {},
     "output_type": "display_data"
    }
   ],
   "source": [
    "for i in xrange(10):\n",
    "    img_rec = recons[i]\n",
    "    img_orig = X_test[i,:]\n",
    "    img_rec.shape = [8,8]\n",
    "    img_orig.shape = [8,8]\n",
    "    plt.figure()\n",
    "    plt.subplot(1,2,1)\n",
    "    plt.imshow(img_orig, interpolation='nearest',cmap='gray')\n",
    "    plt.subplot(1,2,2)\n",
    "    plt.imshow(img_rec, interpolation='nearest',cmap='gray')"
   ]
  },
  {
   "cell_type": "markdown",
   "metadata": {},
   "source": [
    "And the final issue. All this is nice and that. But what is it useful for?"
   ]
  },
  {
   "cell_type": "markdown",
   "metadata": {},
   "source": [
    "What if we could take the intermediate representation and use that in another setting? Does that representation has enough discriminative information for other tasks?"
   ]
  },
  {
   "cell_type": "code",
   "execution_count": 39,
   "metadata": {
    "collapsed": false
   },
   "outputs": [
    {
     "data": {
      "text/plain": [
       "0.91481481481481486"
      ]
     },
     "execution_count": 39,
     "metadata": {},
     "output_type": "execute_result"
    }
   ],
   "source": [
    "X_train_compressed = sess.run(layer_3, feed_dict={x:X_train, keep_prob:1.})\n",
    "X_test_compressed = sess.run(layer_3, feed_dict={x:X_test, keep_prob:1.})\n",
    "\n",
    "from sklearn.ensemble import RandomForestClassifier\n",
    "\n",
    "rf = RandomForestClassifier(11)\n",
    "rf.fit(X_train_compressed,y_train)\n",
    "\n",
    "rf.score(X_test_compressed,y_test)"
   ]
  },
  {
   "cell_type": "markdown",
   "metadata": {},
   "source": [
    "<div class = \"alert alert-success\" style = \"border-radius:10px;border-width:3px\">Let us check the representation ... oh, wait ... this is no longer an image ... and ... i don't know what it really is. However i can use this representation as a proxy of the original data for different tasks! \n",
    "\n",
    "Think now about privacy, and all this stuff ... Food for thought. ;-)</div>\n",
    "\n"
   ]
  },
  {
   "cell_type": "markdown",
   "metadata": {},
   "source": [
    "## 4. Conclusions"
   ]
  },
  {
   "cell_type": "markdown",
   "metadata": {},
   "source": [
    "+ We have seen what deep learning is about.\n",
    "+ We did the basics of tensorflow\n",
    "+ We know what learning representations means\n",
    "+ We have food for thought"
   ]
  }
 ],
 "metadata": {
  "kernelspec": {
   "display_name": "Python 2",
   "language": "python",
   "name": "python2"
  },
  "language_info": {
   "codemirror_mode": {
    "name": "ipython",
    "version": 2
   },
   "file_extension": ".py",
   "mimetype": "text/x-python",
   "name": "python",
   "nbconvert_exporter": "python",
   "pygments_lexer": "ipython2",
   "version": "2.7.12"
  }
 },
 "nbformat": 4,
 "nbformat_minor": 0
}
